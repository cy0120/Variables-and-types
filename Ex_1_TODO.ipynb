{
 "cells": [
  {
   "cell_type": "markdown",
   "metadata": {},
   "source": [
    "Complete the following code before committing and pushing them to your GH repo:"
   ]
  },
  {
   "cell_type": "code",
   "execution_count": 2,
   "metadata": {},
   "outputs": [
    {
     "ename": "SyntaxError",
     "evalue": "invalid syntax (22137175.py, line 4)",
     "output_type": "error",
     "traceback": [
      "\u001b[0;36m  Cell \u001b[0;32mIn[2], line 4\u001b[0;36m\u001b[0m\n\u001b[0;31m    poem = # TODO: Fill in the poem variable using multiline strings\u001b[0m\n\u001b[0m           ^\u001b[0m\n\u001b[0;31mSyntaxError\u001b[0m\u001b[0;31m:\u001b[0m invalid syntax\n"
     ]
    }
   ],
   "source": [
    "str1 = ' baa, baa, baa, black sheep, have you any wool? '\n",
    "str2 = 'Nursery rhymes'\n",
    "\n",
    "poem = # TODO: Fill in the poem variable using multiline strings\n",
    "print() # Print str2 in upper case using upper()\n",
    "print() # Print str2 in upper case using lower()\n",
    "print() # Remove leading and trailing whitespaces using strip()\n",
    "print() # Replace 'baa' with 'maa' using remove()\n",
    "print() # Split str1 into a list using split() with space as the delimiter\n",
    "print() # Count the number of occurrences of 'baa' in str1\n",
    "print() # Count the number of occurrences of 'baa' in str1 from index 5 to 30\n",
    "print() # Find the index of 'y' in str1\n",
    "print() # Find the index of 'z' in str1\n",
    "print() # Check if str1 ends with '? '\n",
    "print() # Check if str2 starts with 'Nursery"
   ]
  },
  {
   "cell_type": "code",
   "execution_count": null,
   "metadata": {},
   "outputs": [
    {
     "name": "stdout",
     "output_type": "stream",
     "text": [
      "NURSERY RHYMES\n",
      "nursery rhymes\n",
      "baa, baa, baa, black sheep, have you any wool?\n",
      " maa, maa, maa, black sheep, have you any wool? \n",
      "['', 'baa,', 'baa,', 'baa,', 'black', 'sheep,', 'have', 'you', 'any', 'wool?', '']\n",
      "3\n",
      "2\n",
      "34\n",
      "-1\n",
      "True\n",
      "True\n"
     ]
    }
   ],
   "source": [
    "str1 = ' baa, baa, baa, black sheep, have you any wool? '\n",
    "str2 = 'Nursery rhymes'\n",
    "\n",
    "# Fill in the poem variable using a multiline string\n",
    "poem = \"\"\"baa, baa, black sheep,\n",
    "have you any wool?\n",
    "yes sir, yes sir,\n",
    "three bags full.\"\"\"\n",
    "\n",
    "print(str2.upper()) # Print str2 in upper case using upper()\n",
    "print(str2.lower()) # Print str2 in lower case using lower()\n",
    "print(str1.strip()) # Remove leading and trailing whitespaces using strip()\n",
    "print(str1.replace('baa', 'maa')) # Replace 'baa' with 'maa' using replace()\n",
    "print(str1.split(' ')) # Split str1 into a list using split() with space as the delimiter\n",
    "print(str1.count('baa')) # Count the number of occurrences of 'baa' in str1\n",
    "print(str1.count('baa', 5, 30)) # Count the number of occurrences of 'baa' in str1 from index 5 to 30\n",
    "print(str1.find('y')) # Find the index of 'y' in str1\n",
    "print(str1.find('z')) # Find the index of 'z' in str1\n",
    "print(str1.endswith('? ')) # Check if str1 ends with '? '\n",
    "print(str2.startswith('Nursery')) # Check if str2 starts with 'Nursery'\n"
   ]
  }
 ],
 "metadata": {
  "kernelspec": {
   "display_name": "Python 3",
   "language": "python",
   "name": "python3"
  },
  "language_info": {
   "codemirror_mode": {
    "name": "ipython",
    "version": 3
   },
   "file_extension": ".py",
   "mimetype": "text/x-python",
   "name": "python",
   "nbconvert_exporter": "python",
   "pygments_lexer": "ipython3",
   "version": "3.10.9"
  }
 },
 "nbformat": 4,
 "nbformat_minor": 2
}
